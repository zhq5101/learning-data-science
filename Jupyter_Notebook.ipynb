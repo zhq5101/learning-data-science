{
 "cells": [
  {
   "cell_type": "markdown",
   "metadata": {},
   "source": [
    "<center>\n",
    "    <img src=\"https://cf-courses-data.s3.us.cloud-object-storage.appdomain.cloud/IBMDeveloperSkillsNetwork-DS0105EN-SkillsNetwork/labs/Module2/images/SN_web_lightmode.png\" width=\"300\" alt=\"cognitiveclass.ai logo\">\n",
    "</center>\n"
   ]
  },
  {
   "cell_type": "markdown",
   "metadata": {},
   "source": [
    "#### Add your code below following the instructions given in the course\n"
   ]
  },
  {
   "cell_type": "markdown",
   "metadata": {},
   "source": [
    "# My Jupyter Notebook on IBM Watson Studio"
   ]
  },
  {
   "cell_type": "markdown",
   "metadata": {
    "tags": []
   },
   "source": [
    "**Hongqin Zhang**<br />\n",
    "Data Scientist"
   ]
  },
  {
   "cell_type": "markdown",
   "metadata": {
    "tags": []
   },
   "source": [
    "*I am interested in data science because there are full of a massive of data around our world and with the help of data science, we can use the results of these data analysis to make a better decisions.*"
   ]
  },
  {
   "cell_type": "markdown",
   "metadata": {},
   "source": [
    "### In the cell below, it shows how to calculate the sum of two integers"
   ]
  },
  {
   "cell_type": "code",
   "execution_count": 3,
   "metadata": {},
   "outputs": [
    {
     "data": {
      "text/plain": [
       "3"
      ]
     },
     "execution_count": 3,
     "metadata": {},
     "output_type": "execute_result"
    }
   ],
   "source": [
    "1+2"
   ]
  },
  {
   "cell_type": "markdown",
   "metadata": {},
   "source": [
    "Languages of Data Science:\n",
    "- Python\n",
    "- R Language\n",
    "- Scala\n",
    "- SQL\n",
    "- others\n",
    "\n",
    "Data Asset Management includes:\n",
    "1. Data Management\n",
    "2. Data Integration and Transformation\n",
    "3. Data Visualization\n",
    "4. Model Building\n",
    "5. Model Deployment\n",
    "6. Model Monitoring and Assessment\n",
    "\n",
    "table:\n",
    "|id|week|title|\n",
    "|-----|-----|-----|\n",
    "|1|week 1|Data Scientist's toolket|\n",
    "|2|week 2|Open Source Tools|\n",
    "|3|week 3|IBM Tools for Data Science|\n",
    "\n",
    "code:\n",
    "```python\n",
    "print(\"hello world!\")\n",
    "```\n",
    "blocked quotes:\n",
    "> Data Science: The Sexiest Job in the 21st Century\n",
    "---\n",
    "Reference:\n",
    "[Markdown Cheatsheet](https://github.com/adam-p/markdown-here/wiki/Markdown-Cheatsheet)"
   ]
  }
 ],
 "metadata": {
  "kernelspec": {
   "display_name": "Python",
   "language": "python",
   "name": "conda-env-python-py"
  },
  "language_info": {
   "codemirror_mode": {
    "name": "ipython",
    "version": 3
   },
   "file_extension": ".py",
   "mimetype": "text/x-python",
   "name": "python",
   "nbconvert_exporter": "python",
   "pygments_lexer": "ipython3",
   "version": "3.7.12"
  }
 },
 "nbformat": 4,
 "nbformat_minor": 4
}
